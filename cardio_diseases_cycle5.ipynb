{
 "cells": [
  {
   "cell_type": "markdown",
   "metadata": {
    "id": "pG9-gDU9vLlt"
   },
   "source": [
    "# 0.0 IMPORTS"
   ]
  },
  {
   "cell_type": "code",
   "execution_count": null,
   "metadata": {
    "id": "zrQgPlXJvLN9"
   },
   "outputs": [],
   "source": [
    "import warnings\n",
    "warnings.simplefilter('ignore')\n",
    "\n",
    "import time\n",
    "import numpy as np \n",
    "import pandas as pd \n",
    "import seaborn as sns\n",
    "%matplotlib inline\n",
    "import matplotlib.pyplot as plt\n",
    "import scipy.stats as stats\n",
    "\n",
    "from sklearn import decomposition \n",
    "from sklearn.preprocessing import StandardScaler \n",
    "\n",
    "from sklearn.neighbors import KNeighborsClassifier\n",
    "from sklearn.ensemble import RandomForestClassifier\n",
    "from sklearn.linear_model import LogisticRegression\n",
    "\n",
    "from sklearn.model_selection import train_test_split\n",
    "from sklearn.model_selection import GridSearchCV\n",
    "from sklearn.model_selection import cross_val_score\n",
    "\n",
    "from sklearn.metrics import classification_report \n",
    "from sklearn.metrics import confusion_matrix, ConfusionMatrixDisplay\n",
    "from sklearn.linear_model import LogisticRegression\n",
    "from sklearn.tree import DecisionTreeClassifier\n",
    "from sklearn.ensemble import RandomForestClassifier\n",
    "from sklearn.svm import SVC\n",
    "from sklearn.neighbors import KNeighborsClassifier\n",
    "from sklearn.metrics import f1_score,accuracy_score,classification_report\n",
    "from sklearn.preprocessing import LabelEncoder\n",
    "import pickle\n",
    "\n",
    "pd.set_option('display.max_columns', None)"
   ]
  },
  {
   "cell_type": "markdown",
   "metadata": {
    "id": "LBeXrfsyw4w1"
   },
   "source": [
    "## 0.1 LOAD DATA"
   ]
  },
  {
   "cell_type": "code",
   "execution_count": null,
   "metadata": {
    "id": "DdfaOvvBwANB"
   },
   "outputs": [],
   "source": [
    "data = pd.read_csv('C:\\\\Users\\\\luizv\\\\Documents\\\\cardio_disease\\\\cardio_train.csv',sep=';')"
   ]
  },
  {
   "cell_type": "markdown",
   "metadata": {
    "id": "FepH-GKsxG_W"
   },
   "source": [
    "# 1.0 DATA DESCRIPTION"
   ]
  },
  {
   "cell_type": "code",
   "execution_count": null,
   "metadata": {
    "id": "CrGihY49xFN7"
   },
   "outputs": [],
   "source": [
    "df1 = data.copy()"
   ]
  },
  {
   "cell_type": "markdown",
   "metadata": {
    "id": "EAOKRTKSxQ3S"
   },
   "source": [
    "## 1.1 DATA DIMENSIONS"
   ]
  },
  {
   "cell_type": "code",
   "execution_count": null,
   "metadata": {
    "colab": {
     "base_uri": "https://localhost:8080/"
    },
    "id": "fA2Ool2nxNSz",
    "outputId": "d9accc04-8079-496e-82d2-c271c1b81082"
   },
   "outputs": [],
   "source": [
    "print( 'Number of Rows: {}'.format( df1.shape[0] ) )\n",
    "print( 'Number of Cols: {}'.format( df1.shape[1] ) )"
   ]
  },
  {
   "cell_type": "markdown",
   "metadata": {
    "id": "_E_zORE5xj17"
   },
   "source": [
    "## 1.2 Data Types"
   ]
  },
  {
   "cell_type": "code",
   "execution_count": null,
   "metadata": {
    "colab": {
     "base_uri": "https://localhost:8080/"
    },
    "id": "GIw8C9mpxZF_",
    "outputId": "f56368db-9237-404f-ab51-889e82eea02a"
   },
   "outputs": [],
   "source": [
    "df1.dtypes"
   ]
  },
  {
   "cell_type": "markdown",
   "metadata": {
    "id": "8MwRvtxJx6QK"
   },
   "source": [
    "## 1.3 Check NA"
   ]
  },
  {
   "cell_type": "code",
   "execution_count": null,
   "metadata": {
    "colab": {
     "base_uri": "https://localhost:8080/"
    },
    "id": "21uocfqXxvr4",
    "outputId": "13589118-35d9-481f-df9c-b766466d6180"
   },
   "outputs": [],
   "source": [
    "df1.isna().sum()"
   ]
  },
  {
   "cell_type": "markdown",
   "metadata": {
    "id": "dmcFjlcHyZOE"
   },
   "source": [
    "## 1.4 Descriptive Statistics"
   ]
  },
  {
   "cell_type": "code",
   "execution_count": null,
   "metadata": {
    "id": "4lLvRnRwx_dw"
   },
   "outputs": [],
   "source": [
    "num_attributes = df1.select_dtypes( include=['int64', 'float64'] )"
   ]
  },
  {
   "cell_type": "markdown",
   "metadata": {
    "id": "E0s2rkZKy6LG"
   },
   "source": [
    "### 1.4.1 NUMERICAL ATTRIBUTES"
   ]
  },
  {
   "cell_type": "code",
   "execution_count": null,
   "metadata": {
    "colab": {
     "base_uri": "https://localhost:8080/"
    },
    "id": "ovkASHoCyfGx",
    "outputId": "94a17aad-91db-4a84-b4b6-8704b55232b9"
   },
   "outputs": [],
   "source": [
    "# Central Tendency \n",
    "ct1 = pd.DataFrame( num_attributes.apply( np.mean ) ).T\n",
    "ct2 = pd.DataFrame( num_attributes.apply( np.median ) ).T\n",
    "\n",
    "# dispersion \n",
    "d1 = pd.DataFrame( num_attributes.apply( np.std ) ).T\n",
    "d2 = pd.DataFrame( num_attributes.apply( min ) ).T\n",
    "d3 = pd.DataFrame( num_attributes.apply( max ) ).T\n",
    "d4 = pd.DataFrame( num_attributes.apply( lambda x: x.max() - x.min() ) ).T\n",
    "d5 = pd.DataFrame( num_attributes.apply( lambda x: x.skew() ) ).T\n",
    "d6 = pd.DataFrame( num_attributes.apply( lambda x: x.kurtosis() ) ).T\n",
    "\n",
    "# concate\n",
    "m = pd.concat( [d2, d3, d4, ct1, ct2, d1, d5, d6] ).T.reset_index()\n",
    "m.columns = ['attributes', 'min', 'max', 'range', 'mean', 'median', 'std','skew', 'kurtosis']\n",
    "m"
   ]
  },
  {
   "cell_type": "markdown",
   "metadata": {
    "id": "WmosW7tM4Qfz"
   },
   "source": [
    "*  age = age of person in days\n",
    "* height = height of person in cm\n",
    "* weight = weight of person in kg\n",
    "* ap_hi = systolic blood pressure , normal value = 120 mmhg\n",
    "* ap_lo = diastolic blood pressure , normal value = 80 mmhg\n",
    "* cholesterol = adults normal value = 200 mg/dL, children normal value = 170 mg/dL\n",
    "\n",
    "* gluc = glucose level , normal value = 70 ~80 mg/dL\n",
    "* smoke = 0 : 'Not a Smoker', 1 : 'Smoker'\n",
    "* alco = 0 : 'Not a Alchoalic', 1 : 'Alchoalic'\n",
    "* active = 0 : 'Not involved in Physical Activites', 1 : 'involved in physical activites'\n",
    "\n",
    "* cardio = 0 : 'Not Have Cardiovascular diseases', 1 : 'Have Cardiovascular diseases'"
   ]
  },
  {
   "cell_type": "markdown",
   "metadata": {
    "id": "uEje5e8FXcDI"
   },
   "source": [
    "# 2.0 Feature Engineering"
   ]
  },
  {
   "cell_type": "code",
   "execution_count": null,
   "metadata": {
    "id": "qk9Pl8ItXfES"
   },
   "outputs": [],
   "source": [
    "df2 = df1.copy()"
   ]
  },
  {
   "cell_type": "code",
   "execution_count": null,
   "metadata": {
    "id": "YnoCLaQOevev"
   },
   "outputs": [],
   "source": [
    "#Body max index\n",
    "df2['bmi'] = df1['weight'] / ((df1['height'] / 100) ** 2)\n",
    "df2['bmi'] = df2['bmi'].astype('int64')\n",
    "\n",
    "# Pulse pression\n",
    "df2['pulse_pression'] = df1['ap_hi'] - df1['ap_lo']"
   ]
  },
  {
   "cell_type": "markdown",
   "metadata": {
    "id": "aS3tzTG3_Xe7"
   },
   "source": [
    "## 2.1 MODEL SCORE"
   ]
  },
  {
   "cell_type": "code",
   "execution_count": null,
   "metadata": {
    "id": "ejNx1gOC_Y9f"
   },
   "outputs": [],
   "source": [
    "def calculate_score(age, gender, cholesterol, systolic_bp, smoke):\n",
    "    score = age\n",
    "    if gender == 1:  # Mulher\n",
    "        score += 5\n",
    "    if cholesterol == 3:  # Colesterol acima do normal\n",
    "        score += 1\n",
    "    if systolic_bp > 140:  # Pressão arterial sistólica acima do normal\n",
    "        score += 1\n",
    "    if smoke == 1:  # Fumante\n",
    "        score += 4\n",
    "    return score\n",
    "\n",
    "# Calcula o modelo SCORE para cada linha do dataframe e adiciona a coluna 'model_score'\n",
    "df2['model_score'] = df2.apply(lambda x: calculate_score(x['age'], x['gender'], x['cholesterol'], x['ap_hi'],x['smoke']), axis=1)\n",
    "df2['model_score'] = df2['model_score'].astype('int64')"
   ]
  },
  {
   "cell_type": "markdown",
   "metadata": {
    "id": "JRLbyb3LDeZX"
   },
   "source": [
    "# 3.0 EDA"
   ]
  },
  {
   "cell_type": "code",
   "execution_count": null,
   "metadata": {
    "id": "1tXUFr6BDOvZ"
   },
   "outputs": [],
   "source": [
    "df3= df2.copy()"
   ]
  },
  {
   "cell_type": "code",
   "execution_count": null,
   "metadata": {
    "colab": {
     "base_uri": "https://localhost:8080/"
    },
    "id": "PD7VDO3rVby9",
    "outputId": "ef6cc760-7caf-41c0-8521-0fb98467648d"
   },
   "outputs": [],
   "source": [
    "df3.head()"
   ]
  },
  {
   "cell_type": "markdown",
   "metadata": {
    "id": "21oBRZMz0aUT"
   },
   "source": [
    "## 3.1 CARDIO(TARGET)"
   ]
  },
  {
   "cell_type": "code",
   "execution_count": null,
   "metadata": {
    "colab": {
     "base_uri": "https://localhost:8080/"
    },
    "id": "edpglCR70dO2",
    "outputId": "1ed736e9-e977-4721-c91f-c3e803728eeb"
   },
   "outputs": [],
   "source": [
    "sns.set_style('darkgrid')\n",
    "plt.figure(figsize=(10, 5))\n",
    "sns.countplot(x='cardio', data=df2, palette='summer', hue='cardio')\n",
    "plt.xlabel('Presence of cardiovascular disease', fontdict={'fontsize': 15,'color':'Green'}, labelpad=3)\n",
    "plt.title('Distribution of Cardiovascular Disease in the Population', fontsize=20)\n",
    "plt.legend(['No Disease', 'Disease'])\n",
    "plt.grid(which='major', color='#666666', linestyle='-')\n",
    "plt.show()\n"
   ]
  },
  {
   "cell_type": "markdown",
   "metadata": {
    "id": "ED9Dg6wZ1u8j"
   },
   "source": [
    "## 3.2 GENDER\n",
    "\n",
    "women's average weight lower than men's average weight "
   ]
  },
  {
   "cell_type": "code",
   "execution_count": null,
   "metadata": {
    "colab": {
     "base_uri": "https://localhost:8080/"
    },
    "id": "ktMFgXhN15BJ",
    "outputId": "f115aefb-5e5e-4b00-fde3-1cd104726744"
   },
   "outputs": [],
   "source": [
    "a = df3[df3[\"gender\"]==2][\"height\"].mean()\n",
    "b = df3[df3[\"gender\"]==1][\"height\"].mean()\n",
    "if a > b:\n",
    "    gender = \"male\"\n",
    "    gender1 = \"female\"\n",
    "else:\n",
    "    gender = \"female\"\n",
    "    gender1 = \"male\"\n",
    "print(\"Gender 2 is \" + gender + \" e Gender 1 is \" + gender1)"
   ]
  },
  {
   "cell_type": "code",
   "execution_count": null,
   "metadata": {
    "colab": {
     "base_uri": "https://localhost:8080/"
    },
    "id": "VBSTdj8Tz6aO",
    "outputId": "a181c909-a71c-40ad-8321-a750dcd22bca"
   },
   "outputs": [],
   "source": [
    "sns.set_style('whitegrid')\n",
    "plt.figure(figsize=(10, 6))\n",
    "sns.countplot(x='gender', hue='cardio', data=df2, palette=\"Set2\")\n",
    "\n",
    "plt.title(\"Gender bar plot\")\n",
    "plt.xlabel(\"Gender\")\n",
    "plt.ylabel(\"Contagem\")\n",
    "\n",
    "\n",
    "plt.show()"
   ]
  },
  {
   "cell_type": "markdown",
   "metadata": {
    "id": "cydiAlnMFAmG"
   },
   "source": [
    "## 3.3 AGE"
   ]
  },
  {
   "cell_type": "code",
   "execution_count": null,
   "metadata": {
    "id": "MQCYGQIzFD-q"
   },
   "outputs": [],
   "source": [
    "df3['age'] = df3['age'] / 365 # days for years\n",
    "df3['age'] = df3['age'].round()"
   ]
  },
  {
   "cell_type": "markdown",
   "metadata": {
    "id": "3ivilHAfMHof"
   },
   "source": [
    "### 3.3.2 GENDER BY AGE"
   ]
  },
  {
   "cell_type": "code",
   "execution_count": null,
   "metadata": {
    "colab": {
     "base_uri": "https://localhost:8080/"
    },
    "id": "dQdwXhxZMmkA",
    "outputId": "241baa69-5226-46fe-9ed9-ef4f5fd44fc1"
   },
   "outputs": [],
   "source": [
    "#gender\n",
    "df_female = df3[df3['gender'] == 1]\n",
    "df_male = df3[df3['gender'] == 2]\n",
    "\n",
    "# boxplot\n",
    "fig, axes = plt.subplots(nrows=1, ncols=2, figsize=(12,6))\n",
    "sns.boxplot(data=df_female, y='age', ax=axes[0], color='pink')\n",
    "sns.boxplot(data=df_male, y='age', ax=axes[1], color='lightblue')\n",
    "\n",
    "# plot\n",
    "axes[0].set_title(\" Women's Age\")\n",
    "axes[1].set_title(\"Men's Age\")\n",
    "plt.tight_layout()\n",
    "plt.show()"
   ]
  },
  {
   "cell_type": "code",
   "execution_count": null,
   "metadata": {
    "colab": {
     "base_uri": "https://localhost:8080/"
    },
    "id": "nK-DFYRoOnbk",
    "outputId": "ed8d7492-830d-447a-fb7f-e88ecae3e4bc"
   },
   "outputs": [],
   "source": [
    "df_female[df_female['age'] <= 30]"
   ]
  },
  {
   "cell_type": "code",
   "execution_count": null,
   "metadata": {
    "colab": {
     "base_uri": "https://localhost:8080/"
    },
    "id": "kWG6TL8CO_3i",
    "outputId": "e608ce48-5c47-44f6-9ff0-844f72fc0cd0"
   },
   "outputs": [],
   "source": [
    "df_male[df_male['age'] <= 30]"
   ]
  },
  {
   "cell_type": "markdown",
   "metadata": {
    "id": "DpUvl9NuNc11"
   },
   "source": [
    "## 3.4 Height"
   ]
  },
  {
   "cell_type": "markdown",
   "metadata": {
    "id": "RH0AuYkAE8Cr"
   },
   "source": [
    "### 3.4.1 VIOLIN PLOT"
   ]
  },
  {
   "cell_type": "markdown",
   "metadata": {
    "id": "ymCwKw93PoVv"
   },
   "source": [
    "## 3.4.2 HEIGHT BY GENDER"
   ]
  },
  {
   "cell_type": "code",
   "execution_count": null,
   "metadata": {
    "colab": {
     "base_uri": "https://localhost:8080/"
    },
    "id": "DPiak62xSXnr",
    "outputId": "5b6de799-fcf2-4444-fe22-1f2e1bd42b98"
   },
   "outputs": [],
   "source": [
    "#gender\n",
    "df_female = df3[df3['gender'] == 1]\n",
    "df_male = df3[df3['gender'] == 2]\n",
    "\n",
    "# boxplot\n",
    "fig, axes = plt.subplots(nrows=1, ncols=2, figsize=(12,6))\n",
    "sns.boxplot(data=df_female, y='height', ax=axes[0], color='pink')\n",
    "sns.boxplot(data=df_male, y='height', ax=axes[1], color='lightblue')\n",
    "\n",
    "# plot\n",
    "axes[0].set_title(\" Women's height \")\n",
    "axes[1].set_title(\" Men's height \")\n",
    "plt.tight_layout()\n",
    "plt.show()"
   ]
  },
  {
   "cell_type": "code",
   "execution_count": null,
   "metadata": {
    "colab": {
     "base_uri": "https://localhost:8080/"
    },
    "id": "XbcSnoKkCMnY",
    "outputId": "71e93d9d-5c8e-427a-c3f7-269c64a24a59"
   },
   "outputs": [],
   "source": [
    "df_female[df_female['height']> 240]"
   ]
  },
  {
   "cell_type": "code",
   "execution_count": null,
   "metadata": {
    "id": "JzOtQ3t6CbMM"
   },
   "outputs": [],
   "source": [
    "#filter\n",
    "df3 = df3.drop(df3[(df3['height'] == 250) & (df3['gender'] == 1)].index)"
   ]
  },
  {
   "cell_type": "code",
   "execution_count": null,
   "metadata": {
    "colab": {
     "base_uri": "https://localhost:8080/"
    },
    "id": "8ZBopn9JDeyp",
    "outputId": "f68bbbe4-adc0-4dc0-c3a5-8bfadde4ba42"
   },
   "outputs": [],
   "source": [
    "#gender\n",
    "df_female = df3[df3['gender'] == 1]\n",
    "df_male = df3[df3['gender'] == 2]\n",
    "\n",
    "# boxplot\n",
    "fig, axes = plt.subplots(nrows=1, ncols=2, figsize=(12,6))\n",
    "sns.boxplot(data=df_female, y='height', ax=axes[0], color='pink')\n",
    "sns.boxplot(data=df_male, y='height', ax=axes[1], color='lightblue')\n",
    "\n",
    "# plot\n",
    "axes[0].set_title(\" Women's height \")\n",
    "axes[1].set_title(\" Men's height \")\n",
    "plt.tight_layout()\n",
    "plt.show()"
   ]
  },
  {
   "cell_type": "markdown",
   "metadata": {
    "id": "6jO2VlNmQ449"
   },
   "source": [
    "## 3.5 Weight"
   ]
  },
  {
   "cell_type": "markdown",
   "metadata": {
    "id": "be54t1vOErnx"
   },
   "source": [
    "### 3.5.1 VIOLIN PLOT"
   ]
  },
  {
   "cell_type": "markdown",
   "metadata": {
    "id": "UPsSD41HsPOT"
   },
   "source": [
    "### 3.5.2 WEIGHT BY GENDER"
   ]
  },
  {
   "cell_type": "code",
   "execution_count": null,
   "metadata": {
    "colab": {
     "base_uri": "https://localhost:8080/"
    },
    "id": "qnRuv9X3sHIE",
    "outputId": "967f22c0-7f2c-46b2-d45e-442b2c642bde"
   },
   "outputs": [],
   "source": [
    "#gender\n",
    "df_female = df3[df3['gender'] == 1]\n",
    "df_male = df3[df3['gender'] == 2]\n",
    "\n",
    "# boxplot\n",
    "fig, axes = plt.subplots(nrows=1, ncols=2, figsize=(12,6))\n",
    "sns.boxplot(data=df_female, y='weight', ax=axes[0], color='pink')\n",
    "sns.boxplot(data=df_male, y='weight', ax=axes[1], color='lightblue')\n",
    "\n",
    "# plot\n",
    "axes[0].set_title(\" Women's weight \")\n",
    "axes[1].set_title(\" Men's weight \")\n",
    "plt.tight_layout()\n",
    "plt.show()"
   ]
  },
  {
   "cell_type": "markdown",
   "metadata": {
    "id": "1G8PQE69RZbX"
   },
   "source": [
    "## 3.6 AP_HI (systolic blood pressure)"
   ]
  },
  {
   "cell_type": "markdown",
   "metadata": {
    "id": "ngEZRwxvqVX-"
   },
   "source": [
    "### 3.6.1 VIOLIN PLOT"
   ]
  },
  {
   "cell_type": "code",
   "execution_count": null,
   "metadata": {
    "id": "a9Wo8TPuGv0Q"
   },
   "outputs": [],
   "source": [
    "#filter\n",
    "df3 = df3[(df3['ap_hi'] > 0) & (df3['ap_hi'] < 300)]"
   ]
  },
  {
   "cell_type": "markdown",
   "metadata": {
    "id": "yLtbCdtXuXAb"
   },
   "source": [
    "### 3.6.2 AP_HI BY GENDER"
   ]
  },
  {
   "cell_type": "code",
   "execution_count": null,
   "metadata": {
    "colab": {
     "base_uri": "https://localhost:8080/"
    },
    "id": "rp3NDryouWmW",
    "outputId": "213bae88-e4d3-4b94-d610-39573c30b81a"
   },
   "outputs": [],
   "source": [
    "#gender\n",
    "df_female = df3[df3['gender'] == 1]\n",
    "df_male = df3[df3['gender'] == 2]\n",
    "\n",
    "# boxplot\n",
    "fig, axes = plt.subplots(nrows=1, ncols=2, figsize=(12,6))\n",
    "sns.boxplot(data=df_female, y='ap_hi', ax=axes[0], color='pink')\n",
    "sns.boxplot(data=df_male, y='ap_hi', ax=axes[1], color='lightblue')\n",
    "\n",
    "# plot\n",
    "axes[0].set_title(\" Women's ap_hi \")\n",
    "axes[1].set_title(\" Men's ap_hi \")\n",
    "plt.tight_layout()\n",
    "plt.show()"
   ]
  },
  {
   "cell_type": "markdown",
   "metadata": {
    "id": "Qrk8ffveRdd_"
   },
   "source": [
    "## 3.7 AP_LO\n",
    "     "
   ]
  },
  {
   "cell_type": "code",
   "execution_count": null,
   "metadata": {
    "id": "ejWfBpCbHzjY"
   },
   "outputs": [],
   "source": [
    "df3 = df3[(df3['ap_lo'] > 0) & (df3['ap_lo'] < 300)]"
   ]
  },
  {
   "cell_type": "markdown",
   "metadata": {
    "id": "ZLw7q2Wqu4h8"
   },
   "source": [
    "### 3.7.2 AP_LO BY GENDER"
   ]
  },
  {
   "cell_type": "code",
   "execution_count": null,
   "metadata": {
    "colab": {
     "base_uri": "https://localhost:8080/"
    },
    "id": "yyoV2ckHu_tC",
    "outputId": "4962fe6c-6bf0-43db-8d80-cf2655986dda"
   },
   "outputs": [],
   "source": [
    "#gender\n",
    "df_female = df3[df3['gender'] == 1]\n",
    "df_male = df3[df3['gender'] == 2]\n",
    "\n",
    "# boxplot\n",
    "fig, axes = plt.subplots(nrows=1, ncols=2, figsize=(12,6))\n",
    "sns.boxplot(data=df_female, y='ap_lo', ax=axes[0], color='pink')\n",
    "sns.boxplot(data=df_male, y='ap_lo', ax=axes[1], color='lightblue')\n",
    "\n",
    "# plot\n",
    "axes[0].set_title(\" Women's ap_lo \")\n",
    "axes[1].set_title(\" Men's ap_lo \")\n",
    "plt.tight_layout()\n",
    "plt.show()"
   ]
  },
  {
   "cell_type": "markdown",
   "metadata": {
    "id": "2RW7XnudsUeU"
   },
   "source": [
    "## 3.8 CHOLESTEROL"
   ]
  },
  {
   "cell_type": "code",
   "execution_count": null,
   "metadata": {
    "id": "SSUhAaBfx556"
   },
   "outputs": [],
   "source": [
    "df3['cholesterol']=df3['cholesterol'].map({ 1: 'normal', 2: 'above normal', 3: 'well above normal'})"
   ]
  },
  {
   "cell_type": "markdown",
   "metadata": {
    "id": "UOIOgMiZyzBU"
   },
   "source": [
    "### 3.8.1 BAR PLOT"
   ]
  },
  {
   "cell_type": "code",
   "execution_count": null,
   "metadata": {
    "colab": {
     "base_uri": "https://localhost:8080/"
    },
    "id": "zYYq6OXfunS0",
    "outputId": "702c74ee-bfd0-49d7-81d9-5b5165f2df91"
   },
   "outputs": [],
   "source": [
    "sns.countplot(x='cholesterol', data=df3, palette=['green', 'yellow', 'red'])\n",
    "plt.xlabel('Categories')\n",
    "plt.ylabel('Count')\n",
    "plt.title('Cholesterol distribution')\n",
    "\n",
    "fig = plt.gcf()\n",
    "fig.set_size_inches(12, 6)\n",
    "\n",
    "plt.show()"
   ]
  },
  {
   "cell_type": "markdown",
   "metadata": {
    "id": "gbl-zprlv4EO"
   },
   "source": [
    "### 3.8.2 CHOLESTEROL BY GENDER"
   ]
  },
  {
   "cell_type": "code",
   "execution_count": null,
   "metadata": {
    "colab": {
     "base_uri": "https://localhost:8080/"
    },
    "id": "nJ6yEE5Dv3c4",
    "outputId": "66bcc66e-734d-4b86-d4c7-b896897e52dc"
   },
   "outputs": [],
   "source": [
    "#contigency_table\n",
    "contingency_table = pd.crosstab(df3['gender'], df3['cholesterol'])\n",
    "contingency_table.plot(kind='bar', stacked=True, figsize=(12,6))\n",
    "#plot\n",
    "plt.title('Cholesterol by gender')\n",
    "plt.xlabel('Gender')\n",
    "plt.ylabel('Frequency')\n",
    "plt.xticks(rotation=0)\n",
    "plt.legend(title='Cholesterol')\n",
    "\n",
    "plt.show()"
   ]
  },
  {
   "cell_type": "markdown",
   "metadata": {
    "id": "yf75XbJKIMkX"
   },
   "source": [
    "## 3.9 GLUCOSE\n"
   ]
  },
  {
   "cell_type": "code",
   "execution_count": null,
   "metadata": {
    "id": "-8D3X1UaIMJi"
   },
   "outputs": [],
   "source": [
    "df3['gluc']=df3['gluc'].map({ 1: 'normal', 2: 'above normal', 3: 'well above normal'})"
   ]
  },
  {
   "cell_type": "markdown",
   "metadata": {
    "id": "qxvdozdHy5Pr"
   },
   "source": [
    "### 3.9.1 BAR PLOT"
   ]
  },
  {
   "cell_type": "code",
   "execution_count": null,
   "metadata": {
    "colab": {
     "base_uri": "https://localhost:8080/"
    },
    "id": "INPO41rswZes",
    "outputId": "7be74d64-636b-462a-cb0b-41ad19af02fa"
   },
   "outputs": [],
   "source": [
    "sns.countplot(x='gluc', data=df3, palette=['green', 'yellow', 'red'])\n",
    "plt.xlabel('Categories')\n",
    "plt.ylabel('Count')\n",
    "plt.title('Glucose distribution')\n",
    "\n",
    "fig = plt.gcf()\n",
    "fig.set_size_inches(12, 6)\n",
    "\n",
    "plt.show()"
   ]
  },
  {
   "cell_type": "markdown",
   "metadata": {
    "id": "zlXdkHsgy7nM"
   },
   "source": [
    "### 3.9.2 GLUCOSE BY GENDER"
   ]
  },
  {
   "cell_type": "code",
   "execution_count": null,
   "metadata": {
    "colab": {
     "base_uri": "https://localhost:8080/"
    },
    "id": "MOhA8UlXyvyZ",
    "outputId": "5fed321b-8fda-42fc-d52d-db53772d2b29"
   },
   "outputs": [],
   "source": [
    "#contigency_table\n",
    "contingency_table = pd.crosstab(df2['gender'], df3['gluc'])\n",
    "contingency_table.plot(kind='bar', stacked=True, figsize=(12,6))\n",
    "#plot\n",
    "plt.title('Glucose by gender')\n",
    "plt.xlabel('Gender')\n",
    "plt.ylabel('Frequency')\n",
    "plt.xticks(rotation=0)\n",
    "plt.legend(title='Glucose')\n",
    "\n",
    "plt.show()"
   ]
  },
  {
   "cell_type": "markdown",
   "metadata": {
    "id": "fgzfqRwGIpsS"
   },
   "source": [
    "## 3.10 SMOKE"
   ]
  },
  {
   "cell_type": "code",
   "execution_count": null,
   "metadata": {
    "id": "hj8hN31mzR-Y"
   },
   "outputs": [],
   "source": [
    "df3['smoke']=df3['smoke'].map({ 0: 'not a smoker', 1: 'smoker'})"
   ]
  },
  {
   "cell_type": "markdown",
   "metadata": {
    "id": "9inkM0ExzW8W"
   },
   "source": [
    "### 3.10.1 BAR PLOT"
   ]
  },
  {
   "cell_type": "code",
   "execution_count": null,
   "metadata": {
    "colab": {
     "base_uri": "https://localhost:8080/"
    },
    "id": "GKGutl6wxDCu",
    "outputId": "fb1fe071-abc8-4725-d039-7b5603a1d567"
   },
   "outputs": [],
   "source": [
    "glucose = df3['smoke'].value_counts()\n",
    "categories = ['no smoke', 'smoke']\n",
    "colors = ['green','red']\n",
    "\n",
    "fig = plt.figure(figsize=(12, 6))\n",
    "ax = fig.add_axes([0,0,1,1])\n",
    "ax.bar(categories, glucose , color= colors)\n",
    "\n",
    "plt.xlabel('Categories]')\n",
    "plt.ylabel('Count')\n",
    "plt.title('Smoke distribution')\n",
    "\n",
    "plt.show()"
   ]
  },
  {
   "cell_type": "markdown",
   "metadata": {
    "id": "lkgNuF9dzZw0"
   },
   "source": [
    "### 3.10.2 SMOKE BY GENDER"
   ]
  },
  {
   "cell_type": "code",
   "execution_count": null,
   "metadata": {
    "colab": {
     "base_uri": "https://localhost:8080/"
    },
    "id": "NJ4Z3POezeR0",
    "outputId": "aedc0709-53cd-4847-fd40-0e5becb28e2a"
   },
   "outputs": [],
   "source": [
    "#contigency_table\n",
    "contingency_table = pd.crosstab(df3['gender'], df3['smoke'])\n",
    "contingency_table.plot(kind='bar', stacked=True, figsize=(12,6))\n",
    "#plot\n",
    "plt.title('Smoke by gender')\n",
    "plt.xlabel('Gender')\n",
    "plt.ylabel('Frequency')\n",
    "plt.xticks(rotation=0)\n",
    "plt.legend(title='Smoke')\n",
    "\n",
    "plt.show()"
   ]
  },
  {
   "cell_type": "markdown",
   "metadata": {
    "id": "JGIAL33XIrZ2"
   },
   "source": [
    "## 3.11 ALCO"
   ]
  },
  {
   "cell_type": "code",
   "execution_count": null,
   "metadata": {
    "id": "amMDcZ8y2yEB"
   },
   "outputs": [],
   "source": [
    "df3['alco']=df3['alco'].map({ 0: 'no drink', 1: 'drink'})"
   ]
  },
  {
   "cell_type": "markdown",
   "metadata": {
    "id": "tAZzilbLzoh_"
   },
   "source": [
    "### 3.11.1 BAR PLOT"
   ]
  },
  {
   "cell_type": "code",
   "execution_count": null,
   "metadata": {
    "colab": {
     "base_uri": "https://localhost:8080/"
    },
    "id": "COTzyjSdJSR3",
    "outputId": "48e8cce9-e41f-4c1d-908d-f4eb15cec385"
   },
   "outputs": [],
   "source": [
    "glucose = df3['alco'].value_counts()\n",
    "categories = ['Not a Alchoalic', 'Alchoalic']\n",
    "colors = ['green','red']\n",
    "\n",
    "fig = plt.figure(figsize=(12, 6))\n",
    "ax = fig.add_axes([0,0,1,1])\n",
    "ax.bar(categories, glucose , color= colors)\n",
    "\n",
    "plt.xlabel('Categories')\n",
    "plt.ylabel('Count')\n",
    "plt.title('Alc distribution')\n",
    "\n",
    "plt.show()"
   ]
  },
  {
   "cell_type": "markdown",
   "metadata": {
    "id": "q18zlfUvztFY"
   },
   "source": [
    "### 3.11.2 ALCOHOLIC BY GENDER"
   ]
  },
  {
   "cell_type": "code",
   "execution_count": null,
   "metadata": {
    "colab": {
     "base_uri": "https://localhost:8080/"
    },
    "id": "bqyOnTLhzs2l",
    "outputId": "04e69be7-0860-4030-8d16-a9364d65b6cc"
   },
   "outputs": [],
   "source": [
    "#contigency_table\n",
    "contingency_table = pd.crosstab(df3['gender'], df3['alco'])\n",
    "contingency_table.plot(kind='bar', stacked=True, figsize=(12,6))\n",
    "#plot\n",
    "plt.title('Alcoholic by gender')\n",
    "plt.xlabel('Gender')\n",
    "plt.ylabel('Frequency')\n",
    "plt.xticks(rotation=0)\n",
    "plt.legend(title='Alcoholic')\n",
    "\n",
    "plt.show()"
   ]
  },
  {
   "cell_type": "markdown",
   "metadata": {
    "id": "YS_53M0vItDY"
   },
   "source": [
    "## 3.12 ACTIVE"
   ]
  },
  {
   "cell_type": "code",
   "execution_count": null,
   "metadata": {
    "id": "7WPD6q_Z3drR"
   },
   "outputs": [],
   "source": [
    "df3['active']=df3['active'].map({ 0: 'no active', 1: 'active'})"
   ]
  },
  {
   "cell_type": "markdown",
   "metadata": {
    "id": "5JVAEGMp0UsF"
   },
   "source": [
    "### 3.12.1 BAR PLOT"
   ]
  },
  {
   "cell_type": "code",
   "execution_count": null,
   "metadata": {
    "colab": {
     "base_uri": "https://localhost:8080/"
    },
    "id": "TnongeebJZ8Q",
    "outputId": "366c0f42-0c78-4b4e-dd76-50180515c33f"
   },
   "outputs": [],
   "source": [
    "active = df3['active'].value_counts()\n",
    "categories = ['Not involved in Physical Activites', 'involved in Physical Activites']\n",
    "colors = ['red','green']\n",
    "\n",
    "fig = plt.figure(figsize=(12, 6))\n",
    "ax = fig.add_axes([0,0,1,1])\n",
    "ax.bar(categories, active , color= colors)\n",
    "\n",
    "plt.xlabel('Categories')\n",
    "plt.ylabel('Count')\n",
    "plt.title('Active distribution')\n",
    "\n",
    "plt.show()"
   ]
  },
  {
   "cell_type": "markdown",
   "metadata": {
    "id": "0DGrx2fz0PbM"
   },
   "source": [
    "### 3.12.2 ACTIVE BY GENDER"
   ]
  },
  {
   "cell_type": "code",
   "execution_count": null,
   "metadata": {
    "colab": {
     "base_uri": "https://localhost:8080/"
    },
    "id": "K3UBkr560PnX",
    "outputId": "37013ec7-8f30-49b3-c498-6c5b36b1f1a8"
   },
   "outputs": [],
   "source": [
    "#contigency_table\n",
    "contingency_table = pd.crosstab(df3['gender'], df3['active'])\n",
    "contingency_table.plot(kind='bar', stacked=True, figsize=(12,6))\n",
    "#plot\n",
    "plt.title('Active by gender')\n",
    "plt.xlabel('Gender')\n",
    "plt.ylabel('Frequency')\n",
    "plt.xticks(rotation=0)\n",
    "plt.legend(title='Active')\n",
    "\n",
    "plt.show()"
   ]
  },
  {
   "cell_type": "markdown",
   "metadata": {
    "id": "2vREaCI_8ZyB"
   },
   "source": [
    "# 4.0 OUTLIERS"
   ]
  },
  {
   "cell_type": "code",
   "execution_count": null,
   "metadata": {
    "id": "mOHREHcurw1z"
   },
   "outputs": [],
   "source": [
    "df4 = df3.copy()"
   ]
  },
  {
   "cell_type": "code",
   "execution_count": null,
   "metadata": {
    "colab": {
     "base_uri": "https://localhost:8080/"
    },
    "id": "HjtAtf2KrsCT",
    "outputId": "3bf9b9e4-329c-47bb-98e4-8a02e5398c3a"
   },
   "outputs": [],
   "source": [
    "def outliers(df_out, drop = False):\n",
    "    for each_feature in df_out.columns:\n",
    "        feature_data = df_out[each_feature]\n",
    "        Q1 = np.percentile(feature_data, 25.) # 25th percentile of the data of the given feature\n",
    "        Q3 = np.percentile(feature_data, 75.) # 75th percentile of the data of the given feature\n",
    "        IQR = Q3-Q1 #Interquartile Range\n",
    "        outlier_step = IQR * 1.5 #That's we were talking about above\n",
    "        outliers = feature_data[~((feature_data >= Q1 - outlier_step) & (feature_data <= Q3 + outlier_step))].index.tolist()  \n",
    "        print('For the feature {}, No of Outliers is {} and No of Data is {}'.format(each_feature, len(outliers),df4[each_feature].shape[0]))\n",
    "outliers(df4[['weight','age','ap_hi','ap_lo']])"
   ]
  },
  {
   "cell_type": "markdown",
   "metadata": {
    "id": "C6idemudIobf"
   },
   "source": [
    "# 5.0 PREPOCESSING"
   ]
  },
  {
   "cell_type": "code",
   "execution_count": null,
   "metadata": {
    "id": "eDC_y2dHIsOy"
   },
   "outputs": [],
   "source": [
    "df5 = df4.drop('id', axis=1).copy()"
   ]
  },
  {
   "cell_type": "code",
   "execution_count": null,
   "metadata": {
    "colab": {
     "base_uri": "https://localhost:8080/",
     "height": 206
    },
    "id": "AdA_XHPnBIz2",
    "outputId": "81b266b3-669e-4e65-aa6c-606d8cc5c4aa"
   },
   "outputs": [],
   "source": [
    "df5.head()"
   ]
  },
  {
   "cell_type": "code",
   "execution_count": null,
   "metadata": {
    "id": "y6q48_ngJxIE"
   },
   "outputs": [],
   "source": [
    "from sklearn.preprocessing import StandardScaler, MinMaxScaler"
   ]
  },
  {
   "cell_type": "code",
   "execution_count": null,
   "metadata": {
    "id": "Xl4AK9twDWQA"
   },
   "outputs": [],
   "source": [
    "# One-hot encoding\n",
    "df5 = pd.get_dummies(df5, columns=['cholesterol', 'gluc'])\n",
    "\n",
    "# Binary\n",
    "df5['smoke'] = df5['smoke'].replace({'not a smoker': 0, 'smoker': 1})\n",
    "df5['alco'] = df5['alco'].replace({'no drink': 0, 'drink': 1})\n",
    "df5['active'] = df5['active'].replace({'no active': 0, 'active': 1})\n",
    "df5['gender'] = df5['gender'].replace({ 1: 0, 2: 1})\n",
    "\n",
    "# MinMaxScaler\n",
    "minmax_scaler = MinMaxScaler()\n",
    "df5[['age', 'bmi', 'model_score']] = minmax_scaler.fit_transform(df5[['age', 'bmi', 'model_score']])\n",
    "\n",
    "# StandardScaler\n",
    "standard_scaler = StandardScaler()\n",
    "df5[['height', 'weight', 'ap_hi', 'ap_lo', 'pulse_pression']] = standard_scaler.fit_transform(df5[['height', 'weight', 'ap_hi', 'ap_lo', 'pulse_pression']])\n",
    "\n",
    "# Save models\n",
    "with open('one_hot_encoding.pkl', 'wb') as f:\n",
    "    pickle.dump(df5, f)\n",
    "\n",
    "with open('binary_encoding.pkl', 'wb') as f:\n",
    "    pickle.dump(df5[['smoke', 'alco', 'active', 'gender']], f)\n",
    "\n",
    "with open('minmax_scaler.pkl', 'wb') as f:\n",
    "    pickle.dump(minmax_scaler, f)\n",
    "\n",
    "with open('standard_scaler.pkl', 'wb') as f:\n",
    "    pickle.dump(standard_scaler, f)"
   ]
  },
  {
   "cell_type": "code",
   "execution_count": null,
   "metadata": {
    "colab": {
     "base_uri": "https://localhost:8080/",
     "height": 305
    },
    "id": "qQBGDbWtJpry",
    "outputId": "1e89e6c1-5f92-4db9-88ea-1436ea65ea09"
   },
   "outputs": [],
   "source": [
    "df5.head()"
   ]
  },
  {
   "cell_type": "markdown",
   "metadata": {
    "id": "ObzD8236VYtO"
   },
   "source": [
    "## 5.3 Correlation of Variables"
   ]
  },
  {
   "cell_type": "code",
   "execution_count": null,
   "metadata": {
    "colab": {
     "base_uri": "https://localhost:8080/",
     "height": 532
    },
    "id": "09eD3Sf6FDsx",
    "outputId": "a63e81ff-b522-4168-e3b4-48dd2722ef39"
   },
   "outputs": [],
   "source": [
    "corr = df5.corr()\n",
    "\n",
    "# plot\n",
    "plt.figure(figsize=(12, 6))\n",
    "sns.heatmap(corr, annot=True)\n",
    "plt.title('Matriz de Correlação')\n",
    "plt.show()"
   ]
  },
  {
   "cell_type": "markdown",
   "metadata": {
    "id": "LC3SFZP9JKXR"
   },
   "source": [
    "## 5.4 CORRELATION WITH TARGET"
   ]
  },
  {
   "cell_type": "code",
   "execution_count": null,
   "metadata": {
    "colab": {
     "base_uri": "https://localhost:8080/",
     "height": 546
    },
    "id": "9BBycc8xqCiC",
    "outputId": "b699120a-7838-47af-8c6d-a175175613ca"
   },
   "outputs": [],
   "source": [
    "corr = df5.corr(method='spearman')\n",
    "\n",
    "\n",
    "target_corr = corr.loc['cardio']\n",
    "target_corr = target_corr.sort_values(ascending=False)\n",
    "target_corr = target_corr.drop('cardio')\n",
    "target_corr = pd.DataFrame(target_corr)\n",
    "target_corr['index'] = target_corr.index\n",
    "target_corr = target_corr.reset_index(drop=True)\n",
    "\n",
    "# plot\n",
    "plt.figure(figsize=(14, 6))\n",
    "ax = sns.barplot(x=target_corr['index'], y=target_corr['cardio'])\n",
    "plt.title('Correlações de Spearman da variável alvo')\n",
    "plt.ylabel('Correlação')\n",
    "plt.xticks(rotation=90)\n",
    "\n",
    "# values\n",
    "for i, v in enumerate(target_corr['cardio']):\n",
    "    ax.text(i, v, round(v, 2), ha='center', va='bottom')\n",
    "\n",
    "plt.show()"
   ]
  },
  {
   "cell_type": "markdown",
   "metadata": {
    "id": "iVCpIm1YWKHO"
   },
   "source": [
    "# 6.0 MACHINE LEARNING"
   ]
  },
  {
   "cell_type": "code",
   "execution_count": null,
   "metadata": {
    "id": "DG7_czTJgKyw"
   },
   "outputs": [],
   "source": [
    "final_data = df5.copy()"
   ]
  },
  {
   "cell_type": "code",
   "execution_count": null,
   "metadata": {
    "colab": {
     "base_uri": "https://localhost:8080/"
    },
    "id": "UNakbhLJJ8-o",
    "outputId": "fb03d5e5-96f8-4227-f613-4a608a0dc79f"
   },
   "outputs": [],
   "source": [
    "final_data.columns"
   ]
  },
  {
   "cell_type": "markdown",
   "metadata": {
    "id": "DkTm0-RPVsTL"
   },
   "source": [
    "### 6.1 SPLITTING AND STANDARDIZING DATA"
   ]
  },
  {
   "cell_type": "code",
   "execution_count": null,
   "metadata": {
    "id": "4Q3ncRVWcpoP"
   },
   "outputs": [],
   "source": [
    "cols = ['ap_hi','age','model_score','bmi','cholesterol_normal']\n",
    "X = df5[cols]\n",
    "y = df5['cardio']\n",
    "\n",
    "X_train, X_test, y_train, y_test = train_test_split(X, y, test_size=0.2, random_state=42)"
   ]
  },
  {
   "cell_type": "code",
   "execution_count": null,
   "metadata": {
    "colab": {
     "base_uri": "https://localhost:8080/",
     "height": 424
    },
    "id": "kQZbYNx6Vr9D",
    "outputId": "4d0c9d25-d3ca-47bb-cccc-26a5cbb6283b"
   },
   "outputs": [],
   "source": [
    "X_train"
   ]
  },
  {
   "cell_type": "code",
   "execution_count": null,
   "metadata": {
    "colab": {
     "base_uri": "https://localhost:8080/",
     "height": 424
    },
    "id": "FFt0_xbgVtfG",
    "outputId": "b89b4e49-0c61-49e5-a492-b73880ed52b5"
   },
   "outputs": [],
   "source": [
    "X_test"
   ]
  },
  {
   "cell_type": "code",
   "execution_count": null,
   "metadata": {
    "colab": {
     "base_uri": "https://localhost:8080/"
    },
    "id": "NThk7GLl6Fxx",
    "outputId": "eb714a7f-a359-4aa1-c5fe-28b182c35b51"
   },
   "outputs": [],
   "source": [
    "y_train"
   ]
  },
  {
   "cell_type": "markdown",
   "metadata": {
    "id": "06q3SoDhWTZt"
   },
   "source": [
    "## 6.2 K-NEAREST NEIGHBORS"
   ]
  },
  {
   "cell_type": "code",
   "execution_count": null,
   "metadata": {
    "colab": {
     "base_uri": "https://localhost:8080/",
     "height": 439
    },
    "id": "30SIlvoGzfWF",
    "outputId": "ef6ba408-365c-4765-be51-ed8edac90327"
   },
   "outputs": [],
   "source": [
    "#start_time = time.time()\n",
    "\n",
    "#error_rate = []\n",
    "#for i in range(1, 31):\n",
    "     #knn = KNeighborsClassifier(n_neighbors=i)\n",
    "     #scores = cross_val_score(knn, X_train, y_train, cv=10)\n",
    "     #error_rate.append(1 - np.mean(scores))\n",
    "\n",
    "#plt.figure(figsize=(10,6))\n",
    "#plt.plot(range(1, 31), error_rate, color='blue', linestyle='dashed', marker='o',\n",
    "          #markerfacecolor='red', markersize=10)\n",
    "#plt.title('Error Rate vs. K Value')\n",
    "#plt.xlabel('K')\n",
    "#plt.ylabel('Error Rate');\n",
    "\n",
    "#best_k = np.argmin(error_rate) + 1\n",
    "#print(f\"Best K: {best_k}\")\n",
    "\n",
    "#end_time = time.time()  # Registra o tempo de término\n",
    "#total_time = end_time - start_time  \n",
    "\n",
    "#print(\"Time: {:.2f} segundos\".format(total_time))"
   ]
  },
  {
   "cell_type": "code",
   "execution_count": null,
   "metadata": {
    "id": "TnUo8bpBxcXY"
   },
   "outputs": [],
   "source": [
    "#best_k =29"
   ]
  },
  {
   "cell_type": "code",
   "execution_count": null,
   "metadata": {
    "colab": {
     "base_uri": "https://localhost:8080/"
    },
    "id": "-fyIyyAUpuWo",
    "outputId": "5ae86e94-56bc-478e-a043-caa94467a7e3"
   },
   "outputs": [],
   "source": [
    "#best_knn = KNeighborsClassifier(n_neighbors=best_k)\n",
    "#best_knn.fit(X_train, y_train)\n",
    "\n",
    "#y_pred = best_knn.predict(X_test)\n",
    "\n",
    "#print(classification_report(y_test, y_pred))"
   ]
  },
  {
   "cell_type": "code",
   "execution_count": null,
   "metadata": {
    "colab": {
     "base_uri": "https://localhost:8080/",
     "height": 497
    },
    "id": "be3Cl9XLq5h-",
    "outputId": "60fc25a2-3209-440a-db7b-7f56c65617e3"
   },
   "outputs": [],
   "source": [
    "#cm = confusion_matrix(y_test, y_pred)\n",
    "\n",
    "## Plot\n",
    "#fig, ax = plt.subplots(figsize=(10, 8))\n",
    "#plot_confusion_matrix(best_knn, X_test, y_test, cmap=plt.cm.Blues, values_format='.0f', ax=ax)\n",
    "#plt.show()"
   ]
  },
  {
   "cell_type": "code",
   "execution_count": null,
   "metadata": {
    "id": "SA9suk5Wn6SS"
   },
   "outputs": [],
   "source": [
    "#with open('knn_model.pkl', 'wb') as f:\n",
    "    #pickle.dump(best_knn, f)"
   ]
  },
  {
   "cell_type": "markdown",
   "metadata": {
    "id": "YKOaHShoWccB"
   },
   "source": [
    "## 6.3 RANDOM FOREST"
   ]
  },
  {
   "cell_type": "code",
   "execution_count": null,
   "metadata": {
    "id": "3QIW6G1tjzwx"
   },
   "outputs": [],
   "source": [
    "# start_time = time.time()\n",
    "\n",
    "# param_grid = {'max_depth': [80, 90],\n",
    "#                'max_features': [2, 3, 4],\n",
    "#                'min_samples_leaf': [3, 4],\n",
    "#                'min_samples_split': [8, 10],\n",
    "#                'n_estimators': [100, 150, 200]}\n",
    "\n",
    "\n",
    "# rf = RandomForestClassifier(criterion='gini', bootstrap=True, oob_score=False)\n",
    "\n",
    "# # GRID SEARCH\n",
    "# grid = GridSearchCV(estimator=rf, param_grid=param_grid, cv=10, n_jobs=-1, verbose=1)\n",
    "# grid.fit(X_train, y_train)\n",
    "\n",
    "\n",
    "# best_model = grid.best_estimator_\n",
    "# print(\"Melhores parâmetros: \", grid.best_params_)\n",
    "\n",
    "\n",
    "# end_time = time.time()\n",
    "# total_time = end_time - start_time\n",
    "\n",
    "\n",
    "# print(\"Time: {:.2f} segundos\".format(total_time))"
   ]
  },
  {
   "cell_type": "code",
   "execution_count": null,
   "metadata": {
    "colab": {
     "base_uri": "https://localhost:8080/"
    },
    "id": "aCMGp4FQXUm5",
    "outputId": "d9c17731-36a7-4a29-ddf2-e930e3e18017"
   },
   "outputs": [],
   "source": [
    "#params = {\n",
    "    # 'max_depth': 90,\n",
    "    # 'max_features': 2,\n",
    "   #  'min_samples_leaf': 4,\n",
    "   #  'min_samples_split': 10,\n",
    "   #  'n_estimators': 100\n",
    "# }\n",
    "\n",
    "#best_model = RandomForestClassifier(**params)\n",
    "\n",
    "##predict\n",
    "\n",
    "#best_model.fit(X_train, y_train)\n",
    "#y_pred = best_model.predict(X_test)\n",
    "\n",
    "## Classification Report\n",
    "#report = classification_report(y_test, y_pred)\n",
    "#print(report)"
   ]
  },
  {
   "cell_type": "code",
   "execution_count": null,
   "metadata": {
    "colab": {
     "base_uri": "https://localhost:8080/",
     "height": 404
    },
    "id": "fevbYuBaenv5",
    "outputId": "e907ac16-52a5-4d83-9c3a-e367d8fe55f6"
   },
   "outputs": [],
   "source": [
    "#cm = confusion_matrix(y_test, y_pred)\n",
    "\n",
    "## plot\n",
    "#plt.figure(figsize=(12, 6))\n",
    "#sns.heatmap(cm, annot=True, cmap=\"Blues\", fmt=\"d\")\n",
    "#plt.title(\"Confusion Matrix\")\n",
    "#plt.xlabel(\"Predicted label\")\n",
    "#plt.ylabel(\"True label\")\n",
    "#plt.show()"
   ]
  },
  {
   "cell_type": "code",
   "execution_count": null,
   "metadata": {
    "id": "h1W5s6Qvnrf-"
   },
   "outputs": [],
   "source": [
    "#filename = 'rf.pkl'\n",
    "\n",
    "#pickle.dump(best_model, open(filename, 'wb'))"
   ]
  },
  {
   "cell_type": "markdown",
   "metadata": {
    "id": "Rgu4wlLRjPSy"
   },
   "source": [
    "## 6.4 XGBOOST"
   ]
  },
  {
   "cell_type": "code",
   "execution_count": null,
   "metadata": {
    "id": "oAAE3fafjQeM",
    "scrolled": true
   },
   "outputs": [],
   "source": [
    "# start_time = time.time() \n",
    "\n",
    "# # Hyperparams\n",
    "# param_grid = {\n",
    "#      'learning_rate': [0.1, 0.5],\n",
    "#      'n_estimators': [100, 200],\n",
    "#      'max_depth': [3, 5],\n",
    "#      'min_child_weight': [1, 3],\n",
    "#      'gamma': [00.1, 0.2]\n",
    "#  }\n",
    "\n",
    "# xgb_model = xgb.XGBClassifier()\n",
    "\n",
    "# # GRIDSEARCH\n",
    "# grid_search = GridSearchCV(xgb_model, param_grid, cv=10)\n",
    "# grid_search.fit(X_train, y_train)\n",
    "\n",
    "# # best hyperparameters\n",
    "# print(\"Best hyperparameters: \", grid_search.best_params_)\n",
    "\n",
    "# end_time = time.time()  \n",
    "# total_time = end_time - start_time \n",
    "\n",
    "# print(\"Time: {:.2f} segundos\".format(total_time))"
   ]
  },
  {
   "cell_type": "code",
   "execution_count": null,
   "metadata": {},
   "outputs": [],
   "source": [
    "pip install xgboost"
   ]
  },
  {
   "cell_type": "code",
   "execution_count": null,
   "metadata": {},
   "outputs": [],
   "source": [
    "import xgboost as xgb"
   ]
  },
  {
   "cell_type": "code",
   "execution_count": null,
   "metadata": {
    "colab": {
     "base_uri": "https://localhost:8080/"
    },
    "id": "p54sqsx-lRfD",
    "outputId": "0f87ffb0-c1ed-458c-8277-ec8e433eb515"
   },
   "outputs": [],
   "source": [
    "params = {\n",
    "     'gamma': 0.2,\n",
    "     'learning_rate': 0.1,\n",
    "     'max_depth': 5,\n",
    "     'min_child_weight': 1,\n",
    "     'n_estimators': 200\n",
    " }\n",
    "\n",
    "best_model = xgb.XGBClassifier(**params)\n",
    "\n",
    "# predict\n",
    "best_model.fit(X_train, y_train)\n",
    "y_pred = best_model.predict(X_test)\n",
    "\n",
    "# Classification Report\n",
    "\n",
    "report = classification_report(y_test, y_pred)\n",
    "print(report)"
   ]
  },
  {
   "cell_type": "code",
   "execution_count": null,
   "metadata": {},
   "outputs": [],
   "source": [
    "# Confusion Matrix\n",
    "cm = confusion_matrix(y_test, y_pred)\n",
    "disp = ConfusionMatrixDisplay(confusion_matrix=cm)\n",
    "disp.plot()"
   ]
  },
  {
   "cell_type": "markdown",
   "metadata": {},
   "source": [
    "# 7.0 DEPLOY"
   ]
  },
  {
   "cell_type": "code",
   "execution_count": null,
   "metadata": {},
   "outputs": [],
   "source": [
    "import pickle\n",
    "\n",
    "# Salvar o modelo em um arquivo\n",
    "filename = 'xgboost_model.pkl'\n",
    "pickle.dump(best_model, open(filename, 'wb'))"
   ]
  },
  {
   "cell_type": "code",
   "execution_count": null,
   "metadata": {},
   "outputs": [],
   "source": [
    "#from flask import Flask, render_template, request\n",
    "#import numpy as np\n",
    "#import xgboost as xgb\n",
    "\n",
    "#app = Flask(__name__)\n",
    "\n",
    "#@app.route('/')\n",
    "#def index():\n",
    "  #  return render_template('form.html')\n",
    "\n",
    "#@app.route('/submit', methods=['POST'])\n",
    "#def submit():\n",
    "    #ap_hi = request.form['ap_hi']\n",
    "    #age = request.form['age']\n",
    "    #model_score = request.form['model_score']\n",
    "    #bmi = request.form['bmi']\n",
    "    #cholesterol_normal = request.form['cholesterol_normal']\n",
    "    ## Faça algo com os dados, como salvá-los em um banco de dados ou calculá-los\n",
    "    #return 'Dados recebidos com sucesso!'\n",
    "\n",
    "#if __name__ == '__main__':\n",
    "    #app.run(debug=False)"
   ]
  },
  {
   "cell_type": "code",
   "execution_count": null,
   "metadata": {},
   "outputs": [],
   "source": [
    "from flask import Flask, render_template, request\n",
    "import pickle\n",
    "import numpy as np\n",
    "\n",
    "app = Flask(__name__)\n",
    "\n",
    "# Carrega o modelo treinado\n",
    "with open('xgboost_model.pkl', 'rb') as file:\n",
    "    model = pickle.load(file)\n",
    "\n",
    "# Carrega os objetos de scaler\n",
    "with open('minmax_scaler.pkl', 'rb') as file:\n",
    "    minmax_scaler = pickle.load(file)\n",
    "\n",
    "with open('standard_scaler.pkl', 'rb') as file:\n",
    "    standard_scaler = pickle.load(file)\n",
    "\n",
    "# Define uma função para fazer previsões com base nos dados do formulário\n",
    "def fazer_previsao(ap_hi, age, model_score, bmi, cholesterol_normal):\n",
    "    # Cria um dicionário com os dados do formulário\n",
    "    dados = {'ap_hi': [ap_hi],\n",
    "             'age': [age],\n",
    "             'model_score': [model_score],\n",
    "             'bmi': [bmi],\n",
    "             'cholesterol_normal': [cholesterol_normal]}\n",
    "\n",
    "    # Escala os dados do formulário\n",
    "    dados_scaled = minmax_scaler.transform(dados[['age', 'bmi', 'model_score']]).tolist()[0] + standard_scaler.transform(dados[['ap_hi']]).tolist()[0] + dados['cholesterol_normal']\n",
    "\n",
    "    # Transforma os dados escalados em um array NumPy para que possam ser usados pelo modelo\n",
    "    dados_array = np.array([dados_scaled])\n",
    "\n",
    "    # Faz a previsão usando o modelo carregado\n",
    "    previsao = model.predict(dados_array)\n",
    "\n",
    "    # Retorna a previsão como uma string\n",
    "    return 'Doença cardiovascular' if previsao == 1 else 'Sem doença cardiovascular'\n",
    "\n",
    "@app.route('/')\n",
    "def home():\n",
    "    return render_template('form.html')\n",
    "\n",
    "@app.route('/submit', methods=['POST'])\n",
    "def submit():\n",
    "    ap_hi = float(request.form['ap_hi'])\n",
    "    age = float(request.form['age'])\n",
    "    model_score = float(request.form['model_score'])\n",
    "    bmi = float(request.form['bmi'])\n",
    "    cholesterol_normal = float(request.form['cholesterol_normal'])\n",
    "    previsao = fazer_previsao(ap_hi, age, model_score, bmi, cholesterol_normal)\n",
    "    return redirect(url_for('resultado', previsao=previsao))\n",
    "\n",
    "\n",
    "if __name__ == '__main__':\n",
    "    app.run(debug=False)\n",
    "\n",
    "\n"
   ]
  },
  {
   "cell_type": "code",
   "execution_count": null,
   "metadata": {},
   "outputs": [],
   "source": []
  }
 ],
 "metadata": {
  "colab": {
   "collapsed_sections": [
    "pG9-gDU9vLlt",
    "FepH-GKsxG_W",
    "uEje5e8FXcDI",
    "JRLbyb3LDeZX",
    "2vREaCI_8ZyB"
   ],
   "provenance": []
  },
  "kernelspec": {
   "display_name": "Python 3 (ipykernel)",
   "language": "python",
   "name": "python3"
  },
  "language_info": {
   "codemirror_mode": {
    "name": "ipython",
    "version": 3
   },
   "file_extension": ".py",
   "mimetype": "text/x-python",
   "name": "python",
   "nbconvert_exporter": "python",
   "pygments_lexer": "ipython3",
   "version": "3.8.7"
  }
 },
 "nbformat": 4,
 "nbformat_minor": 1
}
